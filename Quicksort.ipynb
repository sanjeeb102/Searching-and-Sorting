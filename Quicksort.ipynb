{
 "cells": [
  {
   "cell_type": "code",
   "execution_count": 5,
   "id": "67057d9b",
   "metadata": {},
   "outputs": [
    {
     "name": "stdout",
     "output_type": "stream",
     "text": [
      "[1, 2, 3, 4, 5]\n",
      "[1, 2, 2, 4, 4, 5, 6, 6, 7, 8]\n"
     ]
    }
   ],
   "source": [
    "def partition(l, r, nums):\n",
    "\t# Last element will be the pivot and the first element the pointer\n",
    "\tpivot, ptr = nums[r], l\n",
    "\tfor i in range(l, r):\n",
    "\t\tif nums[i] <= pivot:\n",
    "\t\t\t# Swapping values smaller than the pivot to the front\n",
    "\t\t\tnums[i], nums[ptr] = nums[ptr], nums[i]\n",
    "\t\t\tptr += 1\n",
    "\t# Finally swapping the last element with the pointer indexed number\n",
    "\tnums[ptr], nums[r] = nums[r], nums[ptr]\n",
    "\treturn ptr\n",
    "\n",
    "def quicksort(l, r, nums):\n",
    "\tif len(nums) == 1: # Terminating Condition for recursion. VERY IMPORTANT!\n",
    "\t\treturn nums\n",
    "\tif l < r:\n",
    "\t\tpi = partition(l, r, nums)\n",
    "\t\tquicksort(l, pi-1, nums) # Recursively sorting the left values\n",
    "\t\tquicksort(pi+1, r, nums) # Recursively sorting the right values\n",
    "\treturn nums\n",
    "\n",
    "\n",
    "example = [4, 5, 1, 2, 3]\n",
    "result = [1, 2, 3, 4, 5]\n",
    "print(quicksort(0, len(example)-1, example))\n",
    "\n",
    "example = [2, 5, 6, 1, 4, 6, 2, 4, 7, 8]\n",
    "result = [1, 2, 2, 4, 4, 5, 6, 6, 7, 8]\n",
    "# As you can see, it works for duplicates too\n",
    "print(quicksort(0, len(example)-1, example))"
   ]
  },
  {
   "cell_type": "code",
   "execution_count": null,
   "id": "ac03962c",
   "metadata": {},
   "outputs": [],
   "source": []
  }
 ],
 "metadata": {
  "kernelspec": {
   "display_name": "Python 3 (ipykernel)",
   "language": "python",
   "name": "python3"
  },
  "language_info": {
   "codemirror_mode": {
    "name": "ipython",
    "version": 3
   },
   "file_extension": ".py",
   "mimetype": "text/x-python",
   "name": "python",
   "nbconvert_exporter": "python",
   "pygments_lexer": "ipython3",
   "version": "3.10.0"
  }
 },
 "nbformat": 4,
 "nbformat_minor": 5
}
